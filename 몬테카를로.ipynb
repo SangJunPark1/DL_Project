{
  "nbformat": 4,
  "nbformat_minor": 0,
  "metadata": {
    "colab": {
      "name": "몬테카를로.ipynb",
      "provenance": [],
      "collapsed_sections": [],
      "authorship_tag": "ABX9TyPyxfRJNjjrDtTVkbaCiutY",
      "include_colab_link": true
    },
    "kernelspec": {
      "name": "python3",
      "display_name": "Python 3"
    },
    "language_info": {
      "name": "python"
    }
  },
  "cells": [
    {
      "cell_type": "markdown",
      "metadata": {
        "id": "view-in-github",
        "colab_type": "text"
      },
      "source": [
        "<a href=\"https://colab.research.google.com/github/SangJunPark1/DL_Project/blob/main/%EB%AA%AC%ED%85%8C%EC%B9%B4%EB%A5%BC%EB%A1%9C.ipynb\" target=\"_parent\"><img src=\"https://colab.research.google.com/assets/colab-badge.svg\" alt=\"Open In Colab\"/></a>"
      ]
    },
    {
      "cell_type": "code",
      "metadata": {
        "id": "g3EoEuatDTzJ"
      },
      "source": [
        "import numpy as np\n",
        "import matplotlib.pyplot as plt"
      ],
      "execution_count": null,
      "outputs": []
    },
    {
      "cell_type": "code",
      "metadata": {
        "id": "DWN4T_ffFwut"
      },
      "source": [
        "def function(x): \n",
        "    return x**6 + np.sin(np.pi*x*7) + 7"
      ],
      "execution_count": null,
      "outputs": []
    },
    {
      "cell_type": "code",
      "metadata": {
        "colab": {
          "base_uri": "https://localhost:8080/"
        },
        "id": "SOFXl7sXF03H",
        "outputId": "28a4217a-8c31-434f-eace-93029553ac24"
      },
      "source": [
        "if __name__ == '__main__':\n",
        "    N = 100000  \n",
        "    a, b = 1, 8.66  \n",
        "\n",
        "    X = np.random.random(N)   \n",
        "    Y = b*np.random.random(N) \n",
        "\n",
        "    F = function(X) \n",
        "    result = Y < F  \n",
        "    \n",
        "    area = a * b * np.sum(result) / N \n",
        "    print(\"area = \", area)"
      ],
      "execution_count": null,
      "outputs": [
        {
          "output_type": "stream",
          "name": "stdout",
          "text": [
            "area =  7.232139200000001\n"
          ]
        }
      ]
    },
    {
      "cell_type": "code",
      "metadata": {
        "colab": {
          "base_uri": "https://localhost:8080/"
        },
        "id": "fnh9M0_q0A48",
        "outputId": "de53225d-a2cd-4756-cebb-430972e28bef"
      },
      "source": [
        "print(np.max(F))"
      ],
      "execution_count": null,
      "outputs": [
        {
          "output_type": "stream",
          "name": "stdout",
          "text": [
            "8.659722780595185\n"
          ]
        }
      ]
    },
    {
      "cell_type": "code",
      "metadata": {
        "colab": {
          "base_uri": "https://localhost:8080/",
          "height": 279
        },
        "id": "P188aiEAHn8q",
        "outputId": "86bae048-e8aa-43ab-ef43-cfa09b7a2ef7"
      },
      "source": [
        "color = list(map(lambda x: 'dodgerblue' if x else 'red', result))\n",
        "               \n",
        "plt.scatter(X, Y, color=color, s=5, label='area = {}'.format(np.round(area, 4)))\n",
        "                \n",
        "plt.plot([0, a], [0, 0], color='black')  \n",
        "plt.plot([a, a], [0, b], color='black')\n",
        "plt.plot([0, a], [b, b], color='black')\n",
        "plt.plot([0, 0], [0, b], color='black')\n",
        "\n",
        "px = np.linspace(0, a, 10000)\n",
        "py = function(px)\n",
        "plt.plot(px, py, color = 'black') \n",
        "\n",
        "plt.legend(loc = 'lower right') \n",
        "plt.xlabel('x')\n",
        "plt.ylabel('y')\n",
        "plt.grid()\n",
        "plt.show()\n"
      ],
      "execution_count": null,
      "outputs": [
        {
          "output_type": "display_data",
          "data": {
            "image/png": "[encoded data removed]",
            "text/plain": [
              "<Figure size 432x288 with 1 Axes>"
            ]
          },
          "metadata": {
            "needs_background": "light"
          }
        }
      ]
    },
    {
      "cell_type": "code",
      "metadata": {
        "colab": {
          "base_uri": "https://localhost:8080/",
          "height": 54
        },
        "id": "l70TTcGTH4yS",
        "outputId": "7c8098f0-5876-48f2-e0b8-9043f22ac230"
      },
      "source": [
        "import sympy as sym\n",
        "x = sym.Symbol('x') \n",
        "f = x**6 + sym.sin(np.pi*x*7) + 7\n",
        "sym.Integral(f, x).doit()"
      ],
      "execution_count": null,
      "outputs": [
        {
          "output_type": "execute_result",
          "data": {
            "text/latex": "$\\displaystyle \\frac{x^{7}}{7} + 7 x - 0.0454728408833987 \\cos{\\left(21.9911485751286 x \\right)}$",
            "text/plain": [
              "x**7/7 + 7*x - 0.0454728408833987*cos(21.9911485751286*x)"
            ]
          },
          "metadata": {},
          "execution_count": 72
        }
      ]
    },
    {
      "cell_type": "code",
      "metadata": {
        "colab": {
          "base_uri": "https://localhost:8080/",
          "height": 36
        },
        "id": "eHFjeKzZOq4k",
        "outputId": "00476d21-a4f6-44a4-f779-7be813d2788d"
      },
      "source": [
        "sym.Integral(f, (x, 0, 1)).doit()"
      ],
      "execution_count": null,
      "outputs": [
        {
          "output_type": "execute_result",
          "data": {
            "text/latex": "$\\displaystyle 7.23380282462394$",
            "text/plain": [
              "7.23380282462394"
            ]
          },
          "metadata": {},
          "execution_count": 73
        }
      ]
    },
    {
      "cell_type": "code",
      "metadata": {
        "colab": {
          "base_uri": "https://localhost:8080/",
          "height": 283
        },
        "id": "QRZ_GfKJPkdW",
        "outputId": "7eed32d4-e773-4af0-a0ee-8b38ee640bd2"
      },
      "source": [
        "px = np.linspace(0, a, 10000)\n",
        "py = function(px)\n",
        "plt.plot(px, py, color = 'black') "
      ],
      "execution_count": null,
      "outputs": [
        {
          "output_type": "execute_result",
          "data": {
            "text/plain": [
              "[<matplotlib.lines.Line2D at 0x7f739a9dfc90>]"
            ]
          },
          "metadata": {},
          "execution_count": 63
        },
        {
          "output_type": "display_data",
          "data": {
            "image/png": "[encoded data removed]",
            "text/plain": [
              "<Figure size 432x288 with 1 Axes>"
            ]
          },
          "metadata": {
            "needs_background": "light"
          }
        }
      ]
    },
    {
      "cell_type": "code",
      "metadata": {
        "colab": {
          "base_uri": "https://localhost:8080/",
          "height": 37
        },
        "id": "mKOyi2bAZJk3",
        "outputId": "791f6bda-d0ff-4cb2-ebc2-e895143c26cf"
      },
      "source": [
        "import sympy as sym\n",
        "x = sym.Symbol('x') \n",
        "f = 2.5**(x-3) + 5**0.5\n",
        "sym.Integral(f, x).doit()"
      ],
      "execution_count": null,
      "outputs": [
        {
          "output_type": "execute_result",
          "data": {
            "text/latex": "$\\displaystyle 2.23606797749979 x + 0.0698468267479866 e^{0.916290731874155 x}$",
            "text/plain": [
              "2.23606797749979*x + 0.0698468267479866*exp(0.916290731874155*x)"
            ]
          },
          "metadata": {},
          "execution_count": 64
        }
      ]
    },
    {
      "cell_type": "code",
      "metadata": {
        "id": "lhWB7UFcx0bX",
        "colab": {
          "base_uri": "https://localhost:8080/",
          "height": 36
        },
        "outputId": "c9ac80af-60c4-415a-a549-b7aed3c83b27"
      },
      "source": [
        "sym.Integral(f, (x, 3, 7)).doit()"
      ],
      "execution_count": null,
      "outputs": [
        {
          "output_type": "execute_result",
          "data": {
            "text/latex": "$\\displaystyle 50.4840350833623$",
            "text/plain": [
              "50.4840350833623"
            ]
          },
          "metadata": {},
          "execution_count": 65
        }
      ]
    },
    {
      "cell_type": "code",
      "metadata": {
        "id": "DgB8GzUt9h0e"
      },
      "source": [
        ""
      ],
      "execution_count": null,
      "outputs": []
    }
  ]
}